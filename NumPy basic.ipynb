{
 "cells": [
  {
   "cell_type": "code",
   "execution_count": 1,
   "id": "ce4ca7bb",
   "metadata": {},
   "outputs": [],
   "source": [
    "import numpy as np"
   ]
  },
  {
   "cell_type": "code",
   "execution_count": 3,
   "id": "64fb615e",
   "metadata": {},
   "outputs": [
    {
     "data": {
      "text/plain": [
       "array([0., 0., 0., 0., 0., 0., 0., 0., 0., 0.])"
      ]
     },
     "execution_count": 3,
     "metadata": {},
     "output_type": "execute_result"
    }
   ],
   "source": [
    "x = np.zeros(10)\n",
    "x"
   ]
  },
  {
   "cell_type": "code",
   "execution_count": 5,
   "id": "d282252b",
   "metadata": {},
   "outputs": [
    {
     "data": {
      "text/plain": [
       "10"
      ]
     },
     "execution_count": 5,
     "metadata": {},
     "output_type": "execute_result"
    }
   ],
   "source": [
    "np.size(x)"
   ]
  },
  {
   "cell_type": "code",
   "execution_count": 7,
   "id": "8eda2467",
   "metadata": {},
   "outputs": [
    {
     "data": {
      "text/plain": [
       "array([[0.],\n",
       "       [0.],\n",
       "       [0.],\n",
       "       [0.],\n",
       "       [0.],\n",
       "       [0.],\n",
       "       [0.],\n",
       "       [0.],\n",
       "       [0.],\n",
       "       [0.]])"
      ]
     },
     "execution_count": 7,
     "metadata": {},
     "output_type": "execute_result"
    }
   ],
   "source": [
    "np.reshape(x, (10,1))"
   ]
  },
  {
   "cell_type": "code",
   "execution_count": 9,
   "id": "fecbb0bd",
   "metadata": {},
   "outputs": [
    {
     "data": {
      "text/plain": [
       "array([ 2.        ,  2.42105263,  2.84210526,  3.26315789,  3.68421053,\n",
       "        4.10526316,  4.52631579,  4.94736842,  5.36842105,  5.78947368,\n",
       "        6.21052632,  6.63157895,  7.05263158,  7.47368421,  7.89473684,\n",
       "        8.31578947,  8.73684211,  9.15789474,  9.57894737, 10.        ])"
      ]
     },
     "execution_count": 9,
     "metadata": {},
     "output_type": "execute_result"
    }
   ],
   "source": [
    "z = np.linspace(2, 10, 20)\n",
    "z"
   ]
  },
  {
   "cell_type": "code",
   "execution_count": 12,
   "id": "3ff78d19",
   "metadata": {},
   "outputs": [
    {
     "data": {
      "text/plain": [
       "array([10, 20])"
      ]
     },
     "execution_count": 12,
     "metadata": {},
     "output_type": "execute_result"
    }
   ],
   "source": [
    "z = np.array([10,20])\n",
    "z"
   ]
  },
  {
   "cell_type": "code",
   "execution_count": 18,
   "id": "0c52c499",
   "metadata": {},
   "outputs": [
    {
     "name": "stdout",
     "output_type": "stream",
     "text": [
      "[3 4 5 6 2 1 4]\n",
      "Sorted list[1 2 3 4 4 5 6]\n"
     ]
    }
   ],
   "source": [
    "list = [3, 4, 5, 6, 2, 1, 4]\n",
    "y = np.array((list))\n",
    "print(y)\n",
    "print(f\"Sorted list{np.sort(y)}\")"
   ]
  },
  {
   "cell_type": "code",
   "execution_count": 24,
   "id": "23833619",
   "metadata": {},
   "outputs": [
    {
     "name": "stdout",
     "output_type": "stream",
     "text": [
      "[[ 1  2  3]\n",
      " [10 20 30]\n",
      " [50  1  2]]\n"
     ]
    }
   ],
   "source": [
    "list2 = [[1, 2, 3], [10,20,30], [50, 1, 2]]\n",
    "a = np.array(list2)\n",
    "print(a)"
   ]
  },
  {
   "cell_type": "code",
   "execution_count": 28,
   "id": "6a7a1f9e",
   "metadata": {},
   "outputs": [
    {
     "name": "stdout",
     "output_type": "stream",
     "text": [
      "(3, 3)\n"
     ]
    },
    {
     "data": {
      "text/plain": [
       "(3, 3)"
      ]
     },
     "execution_count": 28,
     "metadata": {},
     "output_type": "execute_result"
    }
   ],
   "source": [
    "print(np.shape(a))\n",
    "a.shape"
   ]
  },
  {
   "cell_type": "code",
   "execution_count": 33,
   "id": "a670ea2e",
   "metadata": {},
   "outputs": [
    {
     "data": {
      "text/plain": [
       "array([5, 0, 3, 3, 7, 9])"
      ]
     },
     "execution_count": 33,
     "metadata": {},
     "output_type": "execute_result"
    }
   ],
   "source": [
    "np.random.seed(0)\n",
    "z1 = np.random.randint(10, size=6)\n",
    "z1"
   ]
  },
  {
   "cell_type": "code",
   "execution_count": 38,
   "id": "0e8021ee",
   "metadata": {},
   "outputs": [
    {
     "data": {
      "text/plain": [
       "array([[5, 0, 3, 3, 7, 9],\n",
       "       [3, 5, 2, 4, 7, 6],\n",
       "       [8, 8, 1, 6, 7, 7],\n",
       "       [8, 1, 5, 9, 8, 9],\n",
       "       [4, 3, 0, 3, 5, 0],\n",
       "       [2, 3, 8, 1, 3, 3]])"
      ]
     },
     "execution_count": 38,
     "metadata": {},
     "output_type": "execute_result"
    }
   ],
   "source": [
    "np.random.seed(0)\n",
    "z1 = np.random.randint(10, size=(6,6))\n",
    "z1"
   ]
  },
  {
   "cell_type": "code",
   "execution_count": 55,
   "id": "c9f4c95c",
   "metadata": {},
   "outputs": [
    {
     "name": "stdout",
     "output_type": "stream",
     "text": [
      "[[5 0 3 3 7 9]\n",
      " [3 5 2 4 7 6]\n",
      " [8 8 1 6 7 7]\n",
      " [8 1 5 9 8 9]\n",
      " [4 3 0 3 5 0]\n",
      " [2 3 8 1 3 3]]\n",
      "166\n",
      "[ 7680     0     0  1944 41160     0]\n",
      "4.611111111111111\n",
      "2.791632116978025\n",
      "7.79320987654321\n",
      "0\n",
      "9\n",
      "[5 0 4 5 5 4]\n",
      "[5 4 0 3 4 2]\n"
     ]
    }
   ],
   "source": [
    "print(z1)\n",
    "print(np.sum(z1)) #soma\n",
    "print(np.prod(z1, axis=0)) #Return the product of array elements over a given axis.\n",
    "print(np.mean(z1)) #média\n",
    "print(np.std(z1)) #desvio padrão\n",
    "print(np.var(z1)) #variance\n",
    "print(np.min(z1)) # valor mínimo\n",
    "print(np.max(z1)) # valor máximo\n",
    "print(np.argmin(z1, axis = 0)) #posição do array com o menor valor// np.argmin(a, axis=None, out=None)\n",
    "print(np.argmax(z1, axis = 1)) # Posição do array com maior valor // np.argmax(a, axis=None, out=None)"
   ]
  },
  {
   "cell_type": "markdown",
   "id": "86ed4403",
   "metadata": {},
   "source": [
    "---"
   ]
  },
  {
   "cell_type": "code",
   "execution_count": 56,
   "id": "6b7bab00",
   "metadata": {},
   "outputs": [],
   "source": [
    "z2 = np.array([1, 2, 3, 4, 5])"
   ]
  },
  {
   "cell_type": "code",
   "execution_count": 59,
   "id": "fc848f4f",
   "metadata": {},
   "outputs": [
    {
     "data": {
      "text/plain": [
       "array([False, False, False,  True,  True])"
      ]
     },
     "execution_count": 59,
     "metadata": {},
     "output_type": "execute_result"
    }
   ],
   "source": [
    "z2 > 3"
   ]
  },
  {
   "cell_type": "code",
   "execution_count": 60,
   "id": "0c0ab0b4",
   "metadata": {},
   "outputs": [
    {
     "data": {
      "text/plain": [
       "array([ True,  True, False, False, False])"
      ]
     },
     "execution_count": 60,
     "metadata": {},
     "output_type": "execute_result"
    }
   ],
   "source": [
    "z2 < 3"
   ]
  },
  {
   "cell_type": "code",
   "execution_count": 63,
   "id": "868e6cb1",
   "metadata": {},
   "outputs": [
    {
     "data": {
      "text/plain": [
       "array([4, 5])"
      ]
     },
     "execution_count": 63,
     "metadata": {},
     "output_type": "execute_result"
    }
   ],
   "source": [
    "z2[z2 > 3] # the array position with value > 3"
   ]
  },
  {
   "cell_type": "markdown",
   "id": "5a38cf7b",
   "metadata": {},
   "source": [
    "----"
   ]
  },
  {
   "cell_type": "code",
   "execution_count": 64,
   "id": "ca32ae14",
   "metadata": {},
   "outputs": [],
   "source": [
    "a_array = np.array([1, 2, 3, 4, 5])\n",
    "b_array = np.array([6, 7, 8, 9, 10])"
   ]
  },
  {
   "cell_type": "code",
   "execution_count": 70,
   "id": "173e4de5",
   "metadata": {},
   "outputs": [
    {
     "data": {
      "text/plain": [
       "array([ 7,  9, 11, 13, 15])"
      ]
     },
     "execution_count": 70,
     "metadata": {},
     "output_type": "execute_result"
    }
   ],
   "source": [
    "a_array + b_array"
   ]
  },
  {
   "cell_type": "code",
   "execution_count": 71,
   "id": "4b3612ad",
   "metadata": {},
   "outputs": [
    {
     "data": {
      "text/plain": [
       "array([ 6, 14, 24, 36, 50])"
      ]
     },
     "execution_count": 71,
     "metadata": {},
     "output_type": "execute_result"
    }
   ],
   "source": [
    "a_array * b_array"
   ]
  },
  {
   "cell_type": "code",
   "execution_count": 66,
   "id": "444eacab",
   "metadata": {},
   "outputs": [
    {
     "data": {
      "text/plain": [
       "array([31, 32, 33, 34, 35])"
      ]
     },
     "execution_count": 66,
     "metadata": {},
     "output_type": "execute_result"
    }
   ],
   "source": [
    "a_array + 30"
   ]
  },
  {
   "cell_type": "code",
   "execution_count": 67,
   "id": "682d9cb5",
   "metadata": {},
   "outputs": [
    {
     "data": {
      "text/plain": [
       "array([ 30,  60,  90, 120, 150])"
      ]
     },
     "execution_count": 67,
     "metadata": {},
     "output_type": "execute_result"
    }
   ],
   "source": [
    "a_array * 30"
   ]
  },
  {
   "cell_type": "code",
   "execution_count": 73,
   "id": "d82d248e",
   "metadata": {},
   "outputs": [
    {
     "data": {
      "text/plain": [
       "130"
      ]
     },
     "execution_count": 73,
     "metadata": {},
     "output_type": "execute_result"
    }
   ],
   "source": [
    "a_array @ b_array # the product of the two arrays"
   ]
  },
  {
   "cell_type": "code",
   "execution_count": 80,
   "id": "05649632",
   "metadata": {},
   "outputs": [
    {
     "data": {
      "text/plain": [
       "130"
      ]
     },
     "execution_count": 80,
     "metadata": {},
     "output_type": "execute_result"
    }
   ],
   "source": [
    "np.sum(a_array * b_array) # is equal to the cell above"
   ]
  },
  {
   "cell_type": "code",
   "execution_count": 82,
   "id": "681b7b39",
   "metadata": {},
   "outputs": [
    {
     "data": {
      "text/plain": [
       "array([[5, 0, 3, 3, 7, 9],\n",
       "       [3, 5, 2, 4, 7, 6],\n",
       "       [8, 8, 1, 6, 7, 7],\n",
       "       [8, 1, 5, 9, 8, 9],\n",
       "       [4, 3, 0, 3, 5, 0],\n",
       "       [2, 3, 8, 1, 3, 3]])"
      ]
     },
     "execution_count": 82,
     "metadata": {},
     "output_type": "execute_result"
    }
   ],
   "source": [
    "z1"
   ]
  },
  {
   "cell_type": "code",
   "execution_count": 85,
   "id": "50688315",
   "metadata": {},
   "outputs": [
    {
     "data": {
      "text/plain": [
       "array([[2, 0, 0, 1, 3, 0],\n",
       "       [3, 1, 1, 3, 5, 3],\n",
       "       [4, 3, 2, 3, 7, 6],\n",
       "       [5, 3, 3, 4, 7, 7],\n",
       "       [8, 5, 5, 6, 7, 9],\n",
       "       [8, 8, 8, 9, 8, 9]])"
      ]
     },
     "execution_count": 85,
     "metadata": {},
     "output_type": "execute_result"
    }
   ],
   "source": [
    "np.sort(z1, axis=0)"
   ]
  },
  {
   "cell_type": "code",
   "execution_count": null,
   "id": "6abd23ea",
   "metadata": {},
   "outputs": [],
   "source": []
  }
 ],
 "metadata": {
  "kernelspec": {
   "display_name": "Python 3 (ipykernel)",
   "language": "python",
   "name": "python3"
  },
  "language_info": {
   "codemirror_mode": {
    "name": "ipython",
    "version": 3
   },
   "file_extension": ".py",
   "mimetype": "text/x-python",
   "name": "python",
   "nbconvert_exporter": "python",
   "pygments_lexer": "ipython3",
   "version": "3.9.7"
  }
 },
 "nbformat": 4,
 "nbformat_minor": 5
}
